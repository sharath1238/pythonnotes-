{
 "cells": [
  {
   "cell_type": "markdown",
   "metadata": {},
   "source": [
    "# Python Loops"
   ]
  },
  {
   "cell_type": "code",
   "execution_count": null,
   "metadata": {},
   "outputs": [],
   "source": [
    "The looping simplifies the complex problems into the easy ones. \n",
    "It enables us to alter the flow of the program so that instead of writing the same code again and again,\n",
    "we can repeat the same code for a finite number of times.\n",
    "For example, if we need to print the first 10 natural numbers then,\n",
    "instead of using the print statement 10 times, we can print inside a loop which runs up to 10 iterations.\n",
    "\n"
   ]
  },
  {
   "cell_type": "code",
   "execution_count": null,
   "metadata": {},
   "outputs": [],
   "source": [
    "for, while,do while loops"
   ]
  },
  {
   "cell_type": "code",
   "execution_count": null,
   "metadata": {},
   "outputs": [],
   "source": [
    "for iterating_var in sequence:    \n",
    "    statement(s)   "
   ]
  },
  {
   "cell_type": "code",
   "execution_count": 3,
   "metadata": {},
   "outputs": [
    {
     "name": "stdout",
     "output_type": "stream",
     "text": [
      "0\n",
      "1\n",
      "2\n",
      "3\n",
      "4\n",
      "5\n",
      "6\n",
      "7\n",
      "8\n",
      "9\n"
     ]
    }
   ],
   "source": [
    "for i in range(10):\n",
    "    print(i)"
   ]
  },
  {
   "cell_type": "code",
   "execution_count": 4,
   "metadata": {},
   "outputs": [
    {
     "name": "stdout",
     "output_type": "stream",
     "text": [
      "s\n",
      "h\n",
      "a\n",
      "r\n",
      "a\n",
      "t\n",
      "h\n"
     ]
    }
   ],
   "source": [
    "s=\"sharath\"\n",
    "for i in s:\n",
    "    print(i)"
   ]
  },
  {
   "cell_type": "code",
   "execution_count": 5,
   "metadata": {},
   "outputs": [
    {
     "name": "stdout",
     "output_type": "stream",
     "text": [
      "160000\n",
      "200000\n",
      "240000\n",
      "120000\n",
      "280000\n",
      "320000\n",
      "400000\n",
      "16000000\n",
      "20000000\n",
      "24000000\n"
     ]
    }
   ],
   "source": [
    "list=[4,5,6,3,7,8,10,400,500,600]\n",
    "acre=40000\n",
    "for i in list:\n",
    "    amount=acre*i\n",
    "    print(amount)"
   ]
  },
  {
   "cell_type": "code",
   "execution_count": 8,
   "metadata": {},
   "outputs": [
    {
     "name": "stdout",
     "output_type": "stream",
     "text": [
      "enter a number89067\n",
      "89067 * 1 = 89067\n",
      "89067 * 2 = 178134\n",
      "89067 * 3 = 267201\n",
      "89067 * 4 = 356268\n",
      "89067 * 5 = 445335\n",
      "89067 * 6 = 534402\n",
      "89067 * 7 = 623469\n",
      "89067 * 8 = 712536\n",
      "89067 * 9 = 801603\n",
      "89067 * 10 = 890670\n"
     ]
    }
   ],
   "source": [
    "n=int(input(\"enter a number\"))     # 9*1=9\n",
    "for i in range(1,11):\n",
    "    c=n*i\n",
    "    print(n,\"*\",i,\"=\",c)\n",
    "    "
   ]
  },
  {
   "cell_type": "code",
   "execution_count": 11,
   "metadata": {},
   "outputs": [
    {
     "name": "stdout",
     "output_type": "stream",
     "text": [
      "how are you sharath\n",
      "how are you sai\n",
      "how are you anil\n"
     ]
    }
   ],
   "source": [
    "list=[\"sharath\",\"sai\",\"anil\"]\n",
    "for i in range(len(list)):\n",
    "    print(\"how are you\",list[i])"
   ]
  },
  {
   "cell_type": "code",
   "execution_count": 13,
   "metadata": {},
   "outputs": [
    {
     "name": "stdout",
     "output_type": "stream",
     "text": [
      "how are you sharath\n",
      "how are you sai\n",
      "how are you anil\n"
     ]
    }
   ],
   "source": [
    "list=[\"sharath\",\"sai\",\"anil\"]\n",
    "for i in list:\n",
    "    print(\"how are you\",i)"
   ]
  },
  {
   "cell_type": "markdown",
   "metadata": {},
   "source": [
    "# Nested for loop in python"
   ]
  },
  {
   "cell_type": "code",
   "execution_count": null,
   "metadata": {},
   "outputs": [],
   "source": [
    "Python allows us to nest any number of for loops inside a for loop. \n",
    "The inner loop is executed n number of times for every iteration of the outer loop. \n",
    "The syntax is given below."
   ]
  },
  {
   "cell_type": "code",
   "execution_count": null,
   "metadata": {},
   "outputs": [],
   "source": [
    "for iterating_var1 in sequence:  #outer loop  \n",
    "    for iterating_var2 in sequence:  #inner loop  \n",
    "        #block of statements     \n",
    "#Other statements    "
   ]
  },
  {
   "cell_type": "code",
   "execution_count": 18,
   "metadata": {},
   "outputs": [
    {
     "name": "stdout",
     "output_type": "stream",
     "text": [
      "enter a number9\n",
      "\n",
      "@\n",
      "@@\n",
      "@@@\n",
      "@@@@\n",
      "@@@@@\n",
      "@@@@@@\n",
      "@@@@@@@\n",
      "@@@@@@@@\n",
      "@@@@@@@@@\n"
     ]
    }
   ],
   "source": [
    "rows=int(input(\"enter a number\"))\n",
    "for i in range(0,rows+1):\n",
    "    for j in range(i):\n",
    "        print(\"@\",end=\"\")\n",
    "    print()\n",
    "    "
   ]
  },
  {
   "cell_type": "code",
   "execution_count": 25,
   "metadata": {},
   "outputs": [
    {
     "name": "stdout",
     "output_type": "stream",
     "text": [
      "enter a number7\n",
      "the given number is prime 7\n"
     ]
    }
   ],
   "source": [
    "n=int(input(\"enter a number\"))\n",
    "if n>1:\n",
    "    for i in range(2,n):\n",
    "        if(n % 2 )==0:\n",
    "            print(\"the given number is not prime\",n)\n",
    "            break\n",
    "    else:\n",
    "        print(\"the given number is prime\",n)"
   ]
  },
  {
   "cell_type": "code",
   "execution_count": null,
   "metadata": {},
   "outputs": [],
   "source": []
  },
  {
   "cell_type": "code",
   "execution_count": null,
   "metadata": {},
   "outputs": [],
   "source": []
  }
 ],
 "metadata": {
  "kernelspec": {
   "display_name": "Python 3",
   "language": "python",
   "name": "python3"
  },
  "language_info": {
   "codemirror_mode": {
    "name": "ipython",
    "version": 3
   },
   "file_extension": ".py",
   "mimetype": "text/x-python",
   "name": "python",
   "nbconvert_exporter": "python",
   "pygments_lexer": "ipython3",
   "version": "3.7.7"
  }
 },
 "nbformat": 4,
 "nbformat_minor": 4
}
