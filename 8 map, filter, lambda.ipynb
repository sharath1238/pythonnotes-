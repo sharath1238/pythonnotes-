{
 "cells": [
  {
   "cell_type": "markdown",
   "metadata": {},
   "source": [
    "__map(), filter() and reduce() are built-in functions of Python.__\n",
    "\n",
    "These functions enable the functional programming aspect of Python.\n",
    "\n",
    "In Functional Programming, the arguments passed are the only factors that decide upon the output.\n",
    "\n",
    "These functions can take any other function as a parameter and can be supplied to other functions as parameters as well."
   ]
  },
  {
   "cell_type": "markdown",
   "metadata": {},
   "source": [
    "map()-\n",
    "--\n",
    "\n",
    "It applies the given function to all iterables and returns a new list.\n",
    "\n",
    "SYNTAX:\n",
    "\n",
    "map(function, iterables)"
   ]
  },
  {
   "cell_type": "code",
   "execution_count": 1,
   "metadata": {},
   "outputs": [
    {
     "name": "stdout",
     "output_type": "stream",
     "text": [
      "25\n"
     ]
    }
   ],
   "source": [
    "# without using map()\n",
    "def sqr(a):\n",
    "    return a*a\n",
    "x= sqr(5)\n",
    "print(x)"
   ]
  },
  {
   "cell_type": "code",
   "execution_count": 4,
   "metadata": {},
   "outputs": [
    {
     "name": "stdout",
     "output_type": "stream",
     "text": [
      "<map object at 0x065E9E50>\n",
      "[1, 4, 9, 16, 25]\n"
     ]
    }
   ],
   "source": [
    "# map(function, iterables)\n",
    "def sqr(a):\n",
    "    return a*a\n",
    "# type your code here5\n",
    "x = map( sqr, [1,2,3,4,5] )\n",
    "print(x)\n",
    "print(list(x))"
   ]
  },
  {
   "cell_type": "code",
   "execution_count": 6,
   "metadata": {},
   "outputs": [
    {
     "name": "stdout",
     "output_type": "stream",
     "text": [
      "[1, 4, 9, 16, 25]\n"
     ]
    }
   ],
   "source": [
    "def sqr(a):\n",
    "    return a*a\n",
    "# type your code here5\n",
    "print(list(map( sqr, [1,2,3,4,5] )))"
   ]
  },
  {
   "cell_type": "code",
   "execution_count": 9,
   "metadata": {},
   "outputs": [
    {
     "name": "stdout",
     "output_type": "stream",
     "text": [
      "{9, 18, 27}\n"
     ]
    }
   ],
   "source": [
    "# map(function, iterables)\n",
    "def sub(a,b):\n",
    "    return a-b\n",
    "# type your code here6\n",
    "# print(list(map(sub, [10,20,30], [1,2,3] )))\n",
    "# print(tuple(map(sub, [10,20,30], [1,2,3] )))\n",
    "print(set(map(sub, [10,20,30], [1,2,3] )))"
   ]
  },
  {
   "cell_type": "markdown",
   "metadata": {},
   "source": [
    "Lambda functions\n",
    "--\n",
    "Everything in the world of programming requires a name, but there still there are a few ananymous mysteries. Lambda functions or Lambda expressions are one of these kind of entities that are nameless.\n",
    "\n",
    "They are the functions that do not have any name.\n",
    "\n",
    "We also call them as anonymous or nameless functions.\n",
    "\n",
    "They are generally provided as input to other functions.\n",
    "\n",
    "Lambda functions are single line functions. Therefore we have to provide the expression along with the function itself.\n",
    "\n",
    "__Note: 'lambda' is not a name, it s a keyword.__\n",
    "\n",
    "__Use of lambda functions:__\n",
    "\n",
    ">__1. One time use:__ They are used in places where we know that the function will be required just once. Therefore, lambda functions are also called as throw away functions.\n",
    "\n",
    ">__2. Input/Output to other functions:__ They are also passed as inputs or returned as outputs of other higher-order functions.\n",
    "\n",
    ">__3. Reduce Code size:__ The body of lambda functions is written in a single line.\n",
    "\n",
    "__SYNTAX:__\n",
    "\n",
    "lambda arguments: expression"
   ]
  },
  {
   "cell_type": "code",
   "execution_count": 10,
   "metadata": {},
   "outputs": [
    {
     "data": {
      "text/plain": [
       "9"
      ]
     },
     "execution_count": 10,
     "metadata": {},
     "output_type": "execute_result"
    }
   ],
   "source": [
    "# without lambda\n",
    "def sqr(a):\n",
    "    return a*a\n",
    "\n",
    "sqr(3)"
   ]
  },
  {
   "cell_type": "code",
   "execution_count": 11,
   "metadata": {},
   "outputs": [
    {
     "data": {
      "text/plain": [
       "9"
      ]
     },
     "execution_count": 11,
     "metadata": {},
     "output_type": "execute_result"
    }
   ],
   "source": [
    "# with lambda\n",
    "# type your code here1*0\n",
    "sqr = lambda a:a*a\n",
    "sqr(3)"
   ]
  },
  {
   "cell_type": "code",
   "execution_count": 13,
   "metadata": {},
   "outputs": [
    {
     "name": "stdout",
     "output_type": "stream",
     "text": [
      "<function abc.<locals>.<lambda> at 0x06486C48>\n",
      "9\n"
     ]
    }
   ],
   "source": [
    "# lambda within user defined functions\n",
    "def abc(x):\n",
    "    return lambda y: x+y\n",
    "\n",
    "t = abc(4)\n",
    "print(t)\n",
    "print(t(5))"
   ]
  },
  {
   "cell_type": "code",
   "execution_count": 14,
   "metadata": {},
   "outputs": [
    {
     "data": {
      "text/plain": [
       "25"
      ]
     },
     "execution_count": 14,
     "metadata": {},
     "output_type": "execute_result"
    }
   ],
   "source": [
    "# Solving Algebraic expressions using lambda\n",
    "# LINEAR EQUATIONS\n",
    "# Snippet 1:\n",
    "x = lambda a: a*a\n",
    "# type your code here1.2\n",
    "x(5)"
   ]
  },
  {
   "cell_type": "code",
   "execution_count": 15,
   "metadata": {},
   "outputs": [
    {
     "data": {
      "text/plain": [
       "22"
      ]
     },
     "execution_count": 15,
     "metadata": {},
     "output_type": "execute_result"
    }
   ],
   "source": [
    "# Solving Algebraic expressions using lambda\n",
    "# LINEAR EQUATIONS\n",
    "# Snippet 2: 5x+3y\n",
    "# type your code here1+3\n",
    "z = lambda x,y: 5*x+3*y\n",
    "z(2,4)"
   ]
  },
  {
   "cell_type": "code",
   "execution_count": 16,
   "metadata": {},
   "outputs": [
    {
     "data": {
      "text/plain": [
       "25"
      ]
     },
     "execution_count": 16,
     "metadata": {},
     "output_type": "execute_result"
    }
   ],
   "source": [
    "# Solving Algebraic expressions using lambda\n",
    "# QUADRATIC EQUATIONS\n",
    "# Snippet 1: (a+b)^2\n",
    "z = lambda x,y: (x+y)**2\n",
    "z(2,3)"
   ]
  },
  {
   "cell_type": "code",
   "execution_count": 17,
   "metadata": {},
   "outputs": [
    {
     "data": {
      "text/plain": [
       "[5, 6, 7, 8]"
      ]
     },
     "execution_count": 17,
     "metadata": {},
     "output_type": "execute_result"
    }
   ],
   "source": [
    "# Use lambda functions along with map function\n",
    "l = [1,2,3,4]\n",
    "# type your code here1.5\n",
    "list(map( lambda x: x+4, l ))"
   ]
  },
  {
   "cell_type": "code",
   "execution_count": 18,
   "metadata": {},
   "outputs": [
    {
     "name": "stdout",
     "output_type": "stream",
     "text": [
      "[5, 6, 7, 8]\n"
     ]
    }
   ],
   "source": [
    "# Lets further shorten the above code\n",
    "l = [1,2,3,4]\n",
    "x = list(map(lambda x: x+4,l))\n",
    "print(x)"
   ]
  },
  {
   "cell_type": "code",
   "execution_count": 19,
   "metadata": {},
   "outputs": [
    {
     "name": "stdout",
     "output_type": "stream",
     "text": [
      "[15, 9, 21, 3]\n"
     ]
    }
   ],
   "source": [
    "print(list(map(lambda x: x*3,(5,3,7,1))))"
   ]
  },
  {
   "cell_type": "markdown",
   "metadata": {},
   "source": [
    "filter()\n",
    "--\n",
    "\n",
    "It is used to filter the given iterables with the help of another function passed as an argument to test all the elements to be True or False.\n",
    "\n",
    "SYNTAX:\n",
    "\n",
    "filter(function, iterables)"
   ]
  },
  {
   "cell_type": "code",
   "execution_count": 22,
   "metadata": {},
   "outputs": [
    {
     "name": "stdout",
     "output_type": "stream",
     "text": [
      "<filter object at 0x06701570>\n",
      "<class 'filter'>\n",
      "[3, 4]\n"
     ]
    }
   ],
   "source": [
    "# filter(function, iterables)\n",
    "def sqr(a):\n",
    "    if a>=3:\n",
    "        return a\n",
    "# type your code here1*8\n",
    "x = filter( sqr, [1,2,3,4])\n",
    "print(x)\n",
    "print(type(x))\n",
    "print(list(x))"
   ]
  },
  {
   "cell_type": "code",
   "execution_count": 23,
   "metadata": {},
   "outputs": [
    {
     "name": "stdout",
     "output_type": "stream",
     "text": [
      "[3, 4]\n"
     ]
    }
   ],
   "source": [
    "l = [1,2,3,4]\n",
    "# type your code here2+1\n",
    "sqr = filter( lambda x:x>=3, l)\n",
    "print(list(sqr))"
   ]
  },
  {
   "cell_type": "code",
   "execution_count": 24,
   "metadata": {},
   "outputs": [
    {
     "name": "stdout",
     "output_type": "stream",
     "text": [
      "[3, 4]\n"
     ]
    }
   ],
   "source": [
    "l = [1,2,3,4]\n",
    "print(list(filter(lambda x: x>=3,l)))"
   ]
  },
  {
   "cell_type": "markdown",
   "metadata": {},
   "source": [
    "reduce()\n",
    "--\n",
    "\n",
    "It applies some other function to a list that are passed as a parameter to it and finally return a single value.\n",
    "\n",
    "SYNTAX:\n",
    "\n",
    "reduce(function, iterables)"
   ]
  },
  {
   "cell_type": "code",
   "execution_count": 27,
   "metadata": {},
   "outputs": [
    {
     "name": "stdout",
     "output_type": "stream",
     "text": [
      "10\n"
     ]
    }
   ],
   "source": [
    "# reduce(function, iterables)\n",
    "import functools\n",
    "from functools import reduce # its required here\n",
    "def sqr(a,b):\n",
    "    return a+b\n",
    "#type your code here\n",
    "x= reduce( sqr, [1,2,3,4])\n",
    "\n",
    "print(x)"
   ]
  },
  {
   "cell_type": "code",
   "execution_count": 28,
   "metadata": {},
   "outputs": [
    {
     "data": {
      "text/plain": [
       "10"
      ]
     },
     "execution_count": 28,
     "metadata": {},
     "output_type": "execute_result"
    }
   ],
   "source": [
    "# lets use reduce with lambda() now\n",
    "# type your code here2-4\n",
    "reduce( lambda a,b: a+b, [1,2,3,4] )"
   ]
  },
  {
   "cell_type": "code",
   "execution_count": 29,
   "metadata": {},
   "outputs": [
    {
     "data": {
      "text/plain": [
       "24"
      ]
     },
     "execution_count": 29,
     "metadata": {},
     "output_type": "execute_result"
    }
   ],
   "source": [
    "# lets use reduce with lambda() now\n",
    "# type your code here2-5\n",
    "reduce( lambda a,b: a*b, [1,2,3,4] )"
   ]
  },
  {
   "cell_type": "code",
   "execution_count": 30,
   "metadata": {},
   "outputs": [
    {
     "name": "stdout",
     "output_type": "stream",
     "text": [
      "<map object at 0x04CBF2F0>\n",
      "[6, 8]\n"
     ]
    }
   ],
   "source": [
    "# filter within map\n",
    "x = map(lambda x: x+x,  filter(lambda x: x>=3, [1,2,3,4]))\n",
    "print(x)\n",
    "print(list(x))\n",
    "# print(tuple(x))"
   ]
  },
  {
   "cell_type": "code",
   "execution_count": 31,
   "metadata": {},
   "outputs": [
    {
     "data": {
      "text/plain": [
       "[6, 8]"
      ]
     },
     "execution_count": 31,
     "metadata": {},
     "output_type": "execute_result"
    }
   ],
   "source": [
    "list(map(lambda x: x+x,  filter(lambda x: x>=3, [1,2,3,4])))"
   ]
  },
  {
   "cell_type": "code",
   "execution_count": 32,
   "metadata": {},
   "outputs": [
    {
     "name": "stdout",
     "output_type": "stream",
     "text": [
      "<filter object at 0x06C4FDF0>\n",
      "[7]\n"
     ]
    }
   ],
   "source": [
    "# map within filter\n",
    "x = filter(lambda x: x>6,  map(lambda x: x+3, [1,2,3,4]))\n",
    "# try this\n",
    "# x = filter(lambda x: x>=3,  map(lambda x: x+3., [1,2,3,4]))\n",
    "print(x)\n",
    "print(list(x))\n",
    "# print(tuple(x))"
   ]
  },
  {
   "cell_type": "code",
   "execution_count": 33,
   "metadata": {},
   "outputs": [
    {
     "name": "stdout",
     "output_type": "stream",
     "text": [
      "14\n"
     ]
    }
   ],
   "source": [
    "# map and filter within reduce\n",
    "x = reduce(lambda x,y: x+y,  map(lambda x:x+x, filter(lambda x: x>=3, (1,2,3,4))))\n",
    "print(x)"
   ]
  }
 ],
 "metadata": {
  "kernelspec": {
   "display_name": "Python 3",
   "language": "python",
   "name": "python3"
  },
  "language_info": {
   "codemirror_mode": {
    "name": "ipython",
    "version": 3
   },
   "file_extension": ".py",
   "mimetype": "text/x-python",
   "name": "python",
   "nbconvert_exporter": "python",
   "pygments_lexer": "ipython3",
   "version": "3.7.7"
  },
  "toc": {
   "base_numbering": 1,
   "nav_menu": {},
   "number_sections": true,
   "sideBar": true,
   "skip_h1_title": false,
   "title_cell": "Table of Contents",
   "title_sidebar": "Contents",
   "toc_cell": false,
   "toc_position": {},
   "toc_section_display": true,
   "toc_window_display": false
  }
 },
 "nbformat": 4,
 "nbformat_minor": 2
}
